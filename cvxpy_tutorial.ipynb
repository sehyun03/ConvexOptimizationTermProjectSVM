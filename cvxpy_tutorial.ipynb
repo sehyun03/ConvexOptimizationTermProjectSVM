{
 "cells": [
  {
   "cell_type": "code",
   "execution_count": 114,
   "metadata": {},
   "outputs": [],
   "source": [
    "%matplotlib inline\n",
    "from __future__ import division\n",
    "import cvxpy as cvx\n",
    "import matplotlib.pyplot as plt\n",
    "import numpy as np"
   ]
  },
  {
   "cell_type": "code",
   "execution_count": 115,
   "metadata": {},
   "outputs": [],
   "source": [
    "# Generate data for SVM classifier with L1 regularization.\n",
    "np.random.seed(1)\n",
    "n = 20\n",
    "m = 1000\n",
    "TEST = m\n",
    "DENSITY = 0.2\n",
    "beta_true = np.random.randn(n,1)\n",
    "idxs = np.random.choice(range(n), int((1-DENSITY)*n), replace=False)\n",
    "for idx in idxs:\n",
    "    beta_true[idx] = 0\n",
    "offset = 0\n",
    "sigma = 45\n",
    "X = np.random.normal(0, 5, size=(m,n))\n",
    "Y = np.sign(X.dot(beta_true) + offset + np.random.normal(0,sigma,size=(m,1)))\n",
    "X_test = np.random.normal(0, 5, size=(TEST,n))\n",
    "Y_test = np.sign(X_test.dot(beta_true) + offset + np.random.normal(0,sigma,size=(TEST,1)))"
   ]
  },
  {
   "cell_type": "code",
   "execution_count": 116,
   "metadata": {},
   "outputs": [],
   "source": [
    "# unique = np.unique(Y)\n",
    "# Y = Y.squeeze()\n",
    "\n",
    "# COLOR = ['red', 'blue']\n",
    "# for li in range(len(unique)):\n",
    "#     X_sub = X[Y == unique[li]]\n",
    "#     plt.scatter(X_sub[:, 0],X_sub[:, 1], c=COLOR[li])\n",
    "# plt.show()"
   ]
  },
  {
   "cell_type": "code",
   "execution_count": 117,
   "metadata": {},
   "outputs": [],
   "source": [
    "# Form SVM with L1 regularization problem.\n",
    "beta = cvx.Variable(n)\n",
    "v = cvx.Variable()\n",
    "loss = cvx.sum_entries(cvx.pos(1 - cvx.mul_elemwise(Y, X*beta - v)))\n",
    "reg = cvx.norm(beta, 1)\n",
    "lambd = cvx.Parameter(sign=\"positive\")\n",
    "prob = cvx.Problem(cvx.Minimize(loss/m + lambd*reg))"
   ]
  },
  {
   "cell_type": "code",
   "execution_count": 127,
   "metadata": {},
   "outputs": [
    {
     "name": "stdout",
     "output_type": "stream",
     "text": [
      "\n",
      "ECOS 2.0.4 - (C) embotech GmbH, Zurich Switzerland, 2012-15. Web: www.embotech.com/ECOS\n",
      "\n",
      "It     pcost       dcost      gap   pres   dres    k/t    mu     step   sigma     IR    |   BT\n",
      " 0  +1.169e-01  +3.880e+00  +4e+01  9e-01  6e-01  1e+00  2e-02    ---    ---    1  1  - |  -  - \n",
      " 1  +1.298e+00  +2.211e+00  +1e+01  1e-01  2e-01  2e-01  5e-03  0.7632  3e-02   0  0  0 |  0  0\n",
      " 2  +9.058e-01  +1.067e+00  +3e+00  3e-02  3e-02  2e-02  2e-03  0.7502  7e-02   0  0  0 |  0  0\n",
      " 3  +9.223e-01  +9.587e-01  +9e-01  6e-03  5e-03  5e-03  4e-04  0.8070  9e-02   0  0  0 |  0  0\n",
      " 4  +9.210e-01  +9.358e-01  +4e-01  3e-03  2e-03  2e-03  2e-04  0.6130  6e-02   0  0  0 |  0  0\n",
      " 5  +9.212e-01  +9.304e-01  +2e-01  2e-03  1e-03  1e-03  1e-04  0.4426  2e-01   0  0  0 |  0  0\n",
      " 6  +9.217e-01  +9.250e-01  +9e-02  6e-04  4e-04  3e-04  4e-05  0.6877  8e-02   0  0  0 |  0  0\n",
      " 7  +9.219e-01  +9.235e-01  +4e-02  3e-04  2e-04  1e-04  2e-05  0.5814  1e-01   1  0  0 |  0  0\n",
      " 8  +9.221e-01  +9.225e-01  +1e-02  7e-05  5e-05  2e-05  5e-06  0.8206  7e-02   1  0  0 |  0  0\n",
      " 9  +9.222e-01  +9.222e-01  +2e-03  1e-05  1e-05  4e-06  1e-06  0.8199  5e-02   1  0  0 |  0  0\n",
      "10  +9.222e-01  +9.222e-01  +4e-04  2e-06  2e-06  7e-07  2e-07  0.8518  1e-02   1  0  0 |  0  0\n",
      "11  +9.222e-01  +9.222e-01  +3e-05  2e-07  2e-07  5e-08  2e-08  0.9251  2e-02   1  0  0 |  0  0\n",
      "12  +9.222e-01  +9.222e-01  +4e-07  3e-09  2e-09  6e-10  2e-10  0.9890  1e-04   1  0  0 |  0  0\n",
      "13  +9.222e-01  +9.222e-01  +4e-09  3e-11  2e-11  6e-12  2e-12  0.9890  1e-04   1  0  0 |  0  0\n",
      "\n",
      "OPTIMAL (within feastol=2.8e-11, reltol=4.6e-09, abstol=4.2e-09).\n",
      "Runtime: 0.047004 seconds.\n",
      "\n"
     ]
    }
   ],
   "source": [
    "# Compute a trade-off curve and record train and test error.\n",
    "# TRIALS = 100\n",
    "train_error = np.zeros(TRIALS)\n",
    "test_error = np.zeros(TRIALS)\n",
    "# lambda_vals = np.logspace(-2, 0, TRIALS)\n",
    "beta_vals = []\n",
    "lambd.value = 0.27185882427329416\n",
    "prob.solve(verbose=True)\n",
    "train_error[i] = (np.sign(X.dot(beta_true) + offset) != np.sign(X.dot(beta.value) - v.value)).sum()/m\n",
    "test_error[i] = (np.sign(X_test.dot(beta_true) + offset) != np.sign(X_test.dot(beta.value) - v.value)).sum()/TEST\n",
    "beta_vals.append(beta.value)"
   ]
  },
  {
   "cell_type": "code",
   "execution_count": 130,
   "metadata": {},
   "outputs": [
    {
     "data": {
      "text/plain": [
       "matrix([[  1.86015730e-11],\n",
       "        [  5.31816132e-12],\n",
       "        [ -8.32755157e-12],\n",
       "        [ -2.04221309e-12],\n",
       "        [  2.51396619e-02],\n",
       "        [ -2.16731675e-11],\n",
       "        [  4.58720316e-13],\n",
       "        [ -3.70352894e-12],\n",
       "        [ -1.16232371e-12],\n",
       "        [ -1.76479031e-02],\n",
       "        [ -1.35241520e-11],\n",
       "        [ -1.12716598e-01],\n",
       "        [ -2.20134483e-11],\n",
       "        [  2.63714134e-11],\n",
       "        [ -3.08996536e-12],\n",
       "        [ -7.28301310e-12],\n",
       "        [ -2.14912197e-12],\n",
       "        [ -4.65174683e-02],\n",
       "        [  7.82955607e-12],\n",
       "        [  4.78778704e-12]])"
      ]
     },
     "execution_count": 130,
     "metadata": {},
     "output_type": "execute_result"
    }
   ],
   "source": [
    "beta.value"
   ]
  },
  {
   "cell_type": "code",
   "execution_count": 86,
   "metadata": {},
   "outputs": [
    {
     "data": {
      "image/png": "[encoded data removed]",
      "text/plain": [
       "<matplotlib.figure.Figure at 0x7fa57a0d5650>"
      ]
     },
     "metadata": {},
     "output_type": "display_data"
    }
   ],
   "source": [
    "plt.plot(lambda_vals, train_error, label=\"Train error\")\n",
    "plt.plot(lambda_vals, test_error, label=\"Test error\")\n",
    "plt.xscale('log')\n",
    "plt.legend(loc='upper left')\n",
    "plt.xlabel(r\"$\\lambda$\", fontsize=16)\n",
    "plt.show()"
   ]
  },
  {
   "cell_type": "code",
   "execution_count": null,
   "metadata": {},
   "outputs": [],
   "source": []
  }
 ],
 "metadata": {
  "kernelspec": {
   "display_name": "Python 2",
   "language": "python",
   "name": "python2"
  },
  "language_info": {
   "codemirror_mode": {
    "name": "ipython",
    "version": 2
   },
   "file_extension": ".py",
   "mimetype": "text/x-python",
   "name": "python",
   "nbconvert_exporter": "python",
   "pygments_lexer": "ipython2",
   "version": "2.7.12"
  }
 },
 "nbformat": 4,
 "nbformat_minor": 2
}
