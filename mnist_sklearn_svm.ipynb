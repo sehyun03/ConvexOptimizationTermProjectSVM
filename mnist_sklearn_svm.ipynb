{
 "cells": [
  {
   "cell_type": "code",
   "execution_count": 1,
   "metadata": {
    "collapsed": true
   },
   "outputs": [],
   "source": [
    "# Import neccessary module\n",
    "\n",
    "import numpy as np\n",
    "import cPickle\n",
    "import gzip\n",
    "import time\n",
    "import timeit\n",
    "\n",
    "from sklearn import svm\n",
    "from sklearn import metrics"
   ]
  },
  {
   "cell_type": "code",
   "execution_count": 2,
   "metadata": {
    "collapsed": true
   },
   "outputs": [],
   "source": [
    "# Read MNIST file\n",
    "\n",
    "def read_mnist(mnist_file):\n",
    "    \"\"\"\n",
    "    Reads MNIST data.\n",
    "    \"\"\"\n",
    "    f = gzip.open(mnist_file, 'rb')\n",
    "    train_data, val_data, test_data = cPickle.load(f)\n",
    "    f.close()\n",
    "    train_X, train_Y = train_data\n",
    "    val_X, val_Y = val_data\n",
    "    test_X, test_Y = test_data    \n",
    "    return train_X, train_Y, val_X, val_Y, test_X, test_Y"
   ]
  },
  {
   "cell_type": "code",
   "execution_count": 3,
   "metadata": {
    "collapsed": true
   },
   "outputs": [],
   "source": [
    "# Get training, validation, testing data\n",
    "train_X, train_Y, val_X, val_Y, test_X, test_Y = read_mnist('mnist.pkl.gz')"
   ]
  },
  {
   "cell_type": "code",
   "execution_count": 4,
   "metadata": {},
   "outputs": [
    {
     "data": {
      "text/plain": [
       "(50000, 784)"
      ]
     },
     "execution_count": 4,
     "metadata": {},
     "output_type": "execute_result"
    }
   ],
   "source": [
    "train_X.shape"
   ]
  },
  {
   "cell_type": "code",
   "execution_count": 5,
   "metadata": {},
   "outputs": [
    {
     "data": {
      "text/plain": [
       "(50000,)"
      ]
     },
     "execution_count": 5,
     "metadata": {},
     "output_type": "execute_result"
    }
   ],
   "source": [
    "train_Y.shape"
   ]
  },
  {
   "cell_type": "code",
   "execution_count": 6,
   "metadata": {},
   "outputs": [
    {
     "data": {
      "text/plain": [
       "(10000, 784)"
      ]
     },
     "execution_count": 6,
     "metadata": {},
     "output_type": "execute_result"
    }
   ],
   "source": [
    "val_X.shape"
   ]
  },
  {
   "cell_type": "code",
   "execution_count": 7,
   "metadata": {},
   "outputs": [
    {
     "data": {
      "text/plain": [
       "(10000,)"
      ]
     },
     "execution_count": 7,
     "metadata": {},
     "output_type": "execute_result"
    }
   ],
   "source": [
    "val_Y.shape"
   ]
  },
  {
   "cell_type": "code",
   "execution_count": 8,
   "metadata": {},
   "outputs": [
    {
     "data": {
      "text/plain": [
       "(10000, 784)"
      ]
     },
     "execution_count": 8,
     "metadata": {},
     "output_type": "execute_result"
    }
   ],
   "source": [
    "test_X.shape"
   ]
  },
  {
   "cell_type": "code",
   "execution_count": 9,
   "metadata": {},
   "outputs": [
    {
     "data": {
      "text/plain": [
       "(10000,)"
      ]
     },
     "execution_count": 9,
     "metadata": {},
     "output_type": "execute_result"
    }
   ],
   "source": [
    "test_Y.shape"
   ]
  },
  {
   "cell_type": "raw",
   "metadata": {},
   "source": [
    "# C give best perform: C = 0.1 with Eval = 0.0519\n",
    "# Use the merge dataset of Dtrain and Dval to have more data\n",
    "final_train_X = train_X\n",
    "final_train_X = np.vstack([final_train_X,val_X])\n",
    "final_train_Y = train_Y\n",
    "final_train_Y = np.hstack([final_train_Y,val_Y])\n",
    "\n",
    "# Use SVM to get the best model\n",
    "final_start_time_train = timeit.default_timer()\n",
    "final_clf = svm.SVC(C= 0.1, kernel='linear')\n",
    "final_clf.fit(final_train_X,final_train_Y)\n",
    "final_end_time_train = timeit.default_timer() - final_start_time_train\n",
    "\n",
    "#Print Time\n",
    "print 'training Dtrain for final H complete at %s seconds' %(final_end_time_train)"
   ]
  },
  {
   "cell_type": "raw",
   "metadata": {},
   "source": [
    "# Test the final model get from C below by using Dtest:\n",
    "\n",
    "# Predict in Dfinal_train\n",
    "final_Y_comma_train = final_clf.predict(final_train_X)\n",
    "\n",
    "# Predict in Dtest\n",
    "final_Y_comma_test = final_clf.predict(test_X)"
   ]
  },
  {
   "cell_type": "raw",
   "metadata": {},
   "source": [
    "# Compute Ein of Dfinal_train and Etest of Dtest\n",
    "\n",
    "# Compute Ein of Dfinal_train\n",
    "Ein_final_train = 1 - metrics.accuracy_score(final_train_Y, final_Y_comma_train)\n",
    "\n",
    "# Compute Etest of Dtest\n",
    "Ein_final_test = 1 - metrics.accuracy_score(test_Y, final_Y_comma_test)\n",
    "\n",
    "# Print Result\n",
    "print 'Ein = ',Ein_final_train\n",
    "print 'Etest = ', Ein_final_test"
   ]
  },
  {
   "cell_type": "code",
   "execution_count": null,
   "metadata": {
    "collapsed": true
   },
   "outputs": [],
   "source": [
    "\"\"\"\n",
    "    Running SVM using linear kernel with given C value and returns in-sample-error, validation-error and training time\n",
    "    of this model.\n",
    "    Input: C_value (C value)\n",
    "    Output: Ein (in-sample-error), Eval (validation-error), training_time (training time)\n",
    "\"\"\"\n",
    "def run_SVM_linear_kernel(C_value, gamma_value):\n",
    "    \"\"\"\n",
    "        Training SVM using linear kernel with given C value\n",
    "    \"\"\"\n",
    "    start_time_train = timeit.default_timer() # Get training starting time\n",
    "    # Training SVM with C_value\n",
    "    train_clf = svm.SVC(C=C_value, kernel='rbf', gamma = gamma_value) \n",
    "    train_clf.fit(train_X,train_Y)\n",
    "    training_time = timeit.default_timer() - start_time_train # Compute training time\n",
    "    print \"Training time: \", training_time\n",
    "    \"\"\"\n",
    "        Using trained SVM to predict on training and validation set\n",
    "    \"\"\"\n",
    "    train_Y_comma = train_clf.predict(train_X) # Predict on training set\n",
    "    val_Y_comma = train_clf.predict(val_X) # Predict on validation set\n",
    "    \"\"\"\n",
    "        Evaluate error\n",
    "    \"\"\"\n",
    "    # accuracy_score() method returns accuracy measure so we take 1 - accuracy_score() to get error\n",
    "    Ein = 1 - metrics.accuracy_score(train_Y, train_Y_comma) # Evaluate error on training set\n",
    "    Eval = 1 - metrics.accuracy_score(val_Y, val_Y_comma) # Evaluate error on validation set\n",
    "    \n",
    "    return Ein, Eval, training_time # Return in-sample-error, validation-error and training time"
   ]
  },
  {
   "cell_type": "code",
   "execution_count": 10,
   "metadata": {},
   "outputs": [
    {
     "name": "stdout",
     "output_type": "stream",
     "text": [
      "[LibSVM]training Dtrain for final H complete at 185.043740988 seconds\n"
     ]
    }
   ],
   "source": [
    "# C and gamma give best perform: C = 10 & gamma = 0.01 with Eval = 0.0165\n",
    "\n",
    "# Use the merge dataset of Dtrain and Dval to have more data\n",
    "final_train_X = train_X\n",
    "final_train_X = np.vstack([final_train_X,val_X])\n",
    "final_train_Y = train_Y\n",
    "final_train_Y = np.hstack([final_train_Y,val_Y])\n",
    "\n",
    "# Use SVM to get the best model\n",
    "final_start_time_RBF_train = time.time()\n",
    "final_RBF_clf = svm.SVC(C= 10, kernel='rbf', gamma =0.01, verbose=True)\n",
    "final_RBF_clf.fit(train_X,train_Y)\n",
    "final_end_time_RBF_train = time.time() - final_start_time_RBF_train\n",
    "\n",
    "# Print Time\n",
    "print 'training Dtrain for final H complete at %s seconds' %(final_end_time_RBF_train)"
   ]
  },
  {
   "cell_type": "code",
   "execution_count": 11,
   "metadata": {},
   "outputs": [
    {
     "name": "stdout",
     "output_type": "stream",
     "text": [
      "Etest =  0.018\n"
     ]
    }
   ],
   "source": [
    "# Test the final model get from C and gamma below by using Dtest:\n",
    "\n",
    "# Predict in Dfinal_train\n",
    "# final_RBF_Y_comma_train = final_RBF_clf.predict(final_train_X)\n",
    "\n",
    "# Predict in Dtest\n",
    "final_RBF_Y_comma_test = final_RBF_clf.predict(test_X)\n",
    "\n",
    "# Compute Ein of Dfinal_train and Etest of Dtest\n",
    "\n",
    "# Compute Ein of Dfinal_train\n",
    "# RBF_Ein_final_train = 1 - metrics.accuracy_score(final_train_Y, final_RBF_Y_comma_train)\n",
    "\n",
    "# Compute Etest of Dtest\n",
    "RBF_Ein_final_test = 1 - metrics.accuracy_score(test_Y, final_RBF_Y_comma_test)\n",
    "\n",
    "# Print Result\n",
    "#print 'Ein = ',Ein_final_train\n",
    "print 'Etest = ', RBF_Ein_final_test"
   ]
  },
  {
   "cell_type": "code",
   "execution_count": null,
   "metadata": {
    "collapsed": true
   },
   "outputs": [],
   "source": []
  }
 ],
 "metadata": {
  "kernelspec": {
   "display_name": "Python 2",
   "language": "python",
   "name": "python2"
  },
  "language_info": {
   "codemirror_mode": {
    "name": "ipython",
    "version": 2
   },
   "file_extension": ".py",
   "mimetype": "text/x-python",
   "name": "python",
   "nbconvert_exporter": "python",
   "pygments_lexer": "ipython2",
   "version": "2.7.13"
  }
 },
 "nbformat": 4,
 "nbformat_minor": 2
}
