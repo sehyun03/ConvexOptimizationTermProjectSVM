{
 "cells": [
  {
   "cell_type": "code",
   "execution_count": 24,
   "metadata": {},
   "outputs": [],
   "source": [
    "%matplotlib inline\n",
    "from __future__ import division\n",
    "import cvxpy as cvx\n",
    "import matplotlib.pyplot as plt\n",
    "import numpy as np"
   ]
  },
  {
   "cell_type": "code",
   "execution_count": 25,
   "metadata": {},
   "outputs": [
    {
     "name": "stdout",
     "output_type": "stream",
     "text": [
      "x (600, 2) y (600,)\n"
     ]
    },
    {
     "data": {
      "image/png": "[encoded data removed]",
      "text/plain": [
       "<matplotlib.figure.Figure at 0x7fa373aa20d0>"
      ]
     },
     "metadata": {},
     "output_type": "display_data"
    }
   ],
   "source": [
    "###Data Generation\n",
    "DIM = 2\n",
    "COLORS = ['red', 'blue']\n",
    "# np.random.seed(2)\n",
    "M1 = np.ones((DIM,))\n",
    "M2 = 3 * np.ones((DIM,))\n",
    "C1 = np.diag(0.7 * np.ones((DIM,)))\n",
    "C2 = np.diag(0.6 * np.ones((DIM,)))\n",
    "fig, ax = plt.subplots()\n",
    "def generate_gaussian(m, c, num):\n",
    "    return np.random.multivariate_normal(m, c, num)\n",
    "def plot_data_with_labels(ax, x, y):\n",
    "    unique = np.unique(y)\n",
    "    for li in range(len(unique)):\n",
    "        x_sub = x[y == unique[li]]\n",
    "        ax.scatter(x_sub[:, 0], x_sub[:, 1], c = COLORS[li], s=10)\n",
    "NUM = 300\n",
    "x1 = generate_gaussian(M1, C1, NUM)\n",
    "y1 = np.ones((x1.shape[0],))\n",
    "x2 = generate_gaussian(M2, C2, NUM)\n",
    "y2 = -np.ones((x2.shape[0],))\n",
    "x = np.concatenate((x1, x2), axis = 0)\n",
    "y = np.concatenate((y1, y2), axis = 0)\n",
    "print('x {} y {}'.format(x.shape, y.shape))\n",
    "plot_data_with_labels(ax, x, y)"
   ]
  },
  {
   "cell_type": "code",
   "execution_count": 26,
   "metadata": {},
   "outputs": [
    {
     "name": "stdout",
     "output_type": "stream",
     "text": [
      "\n",
      "ECOS 2.0.4 - (C) embotech GmbH, Zurich Switzerland, 2012-15. Web: www.embotech.com/ECOS\n",
      "\n",
      "It     pcost       dcost      gap   pres   dres    k/t    mu     step   sigma     IR    |   BT\n",
      " 0  -4.500e+02  -1.880e+03  +6e+03  3e-01  3e-05  1e+00  5e+00    ---    ---    2  1  - |  -  - \n",
      " 1  -7.955e+02  -9.918e+02  +1e+03  4e-02  4e-06  1e-01  9e-01  0.8375  1e-02   1  3  3 |  0  0\n",
      " 2  -5.867e+02  -8.145e+02  +1e+03  6e-02  4e-06  5e-01  8e-01  0.5959  8e-01   2  4  3 |  0  0\n",
      " 3  -2.998e+02  -3.628e+02  +2e+02  2e-02  1e-06  2e-01  2e-01  0.7983  5e-02   3  3  3 |  0  0\n",
      " 4  -2.160e+02  -2.658e+02  +1e+02  2e-02  7e-07  2e-01  1e-01  0.7629  4e-01   3  3  4 |  0  0\n",
      " 5  -1.105e+02  -1.311e+02  +5e+01  9e-03  3e-07  1e-01  4e-02  0.6547  9e-02   3  4  4 |  0  0\n",
      " 6  -5.302e+01  -5.745e+01  +1e+01  2e-03  6e-08  2e-02  1e-02  0.8443  1e-01   4  5  4 |  0  0\n",
      " 7  -3.905e+01  -4.029e+01  +4e+00  5e-04  2e-08  5e-03  3e-03  0.7702  1e-01   4  4  4 |  0  0\n",
      " 8  -3.470e+01  -3.496e+01  +8e-01  1e-04  4e-09  1e-03  7e-04  0.7883  7e-03   3  4  4 |  0  0\n",
      " 9  -3.362e+01  -3.363e+01  +5e-02  6e-06  2e-10  6e-05  4e-05  0.9457  3e-03   3  3  3 |  0  0\n",
      "10  -3.356e+01  -3.356e+01  +3e-03  4e-07  1e-11  4e-06  2e-06  0.9509  1e-02   2  2  2 |  0  0\n",
      "11  -3.355e+01  -3.355e+01  +2e-04  2e-08  9e-13  3e-07  2e-07  0.9335  6e-04   2  2  2 |  0  0\n",
      "12  -3.355e+01  -3.355e+01  +1e-05  2e-09  9e-14  2e-08  1e-08  0.9871  6e-02   2  1  1 |  0  0\n",
      "13  -3.355e+01  -3.355e+01  +2e-07  1e-10  1e-15  3e-10  2e-10  0.9840  1e-04   2  1  1 |  0  0\n",
      "\n",
      "OPTIMAL (within feastol=1.2e-10, reltol=6.5e-09, abstol=2.2e-07).\n",
      "Runtime: 0.008942 seconds.\n",
      "\n",
      "0.509196043015\n"
     ]
    }
   ],
   "source": [
    "import time\n",
    "start_time = time.time()\n",
    "\n",
    "# Dual form\n",
    "alpha = cvx.Variable(2*NUM)\n",
    "C = cvx.Parameter(value=1.5)\n",
    "P = (np.diag(y) * np.dot(x,x.T) * np.diag(y))\n",
    "loss = cvx.sum_entries(alpha) -0.5*cvx.quad_form(alpha, P)\n",
    "# -0.5*(alpha.T * (cvx.diag(y) * np.dot(x,x.T) * cvx.diag(y)) * alpha)\n",
    "\n",
    "const = []\n",
    "for i  in range(2*NUM):\n",
    "    const.append(0 <= alpha[i])\n",
    "    const.append(alpha[i] <= C)\n",
    "const.append(((alpha.T)*y)==0)\n",
    "prob = cvx.Problem(cvx.Maximize(loss), const)\n",
    "prob.solve(verbose=True)\n",
    "# prob.solve(solver=\"CVXOPT\",verbose=True)\n",
    "end_time = time.time()\n",
    "print end_time - start_time"
   ]
  },
  {
   "cell_type": "code",
   "execution_count": 27,
   "metadata": {},
   "outputs": [
    {
     "name": "stdout",
     "output_type": "stream",
     "text": [
      "(600, 2)\n",
      "(2,)\n"
     ]
    }
   ],
   "source": [
    "_alpha = np.array(alpha.value)\n",
    "y_ = np.expand_dims(y,1)\n",
    "__beta = _alpha * y_ * x\n",
    "print(__beta.shape)\n",
    "_beta = np.sum(__beta, axis=0)\n",
    "print(_beta.shape)"
   ]
  },
  {
   "cell_type": "code",
   "execution_count": 28,
   "metadata": {},
   "outputs": [
    {
     "data": {
      "text/plain": [
       "array([-80.24324379, -79.52319279])"
      ]
     },
     "execution_count": 28,
     "metadata": {},
     "output_type": "execute_result"
    }
   ],
   "source": [
    "_beta"
   ]
  },
  {
   "cell_type": "code",
   "execution_count": 29,
   "metadata": {},
   "outputs": [
    {
     "name": "stdout",
     "output_type": "stream",
     "text": [
      "(600,)\n",
      "(600, 1)\n",
      "(600, 1)\n",
      "(600, 1)\n"
     ]
    }
   ],
   "source": [
    "print(y.shape)\n",
    "print(_alpha.shape)\n",
    "y_ = np.expand_dims(y,1)\n",
    "print(y_.shape)\n",
    "print((_alpha*y_).shape)"
   ]
  },
  {
   "cell_type": "code",
   "execution_count": 30,
   "metadata": {},
   "outputs": [
    {
     "name": "stdout",
     "output_type": "stream",
     "text": [
      "(600, 2)\n",
      "(2,)\n",
      "(2, 1)\n",
      "(600, 1)\n"
     ]
    }
   ],
   "source": [
    "print(x.shape)\n",
    "print(x[3].shape)\n",
    "_x = np.expand_dims(x[3],1)\n",
    "print(_x.shape)\n",
    "print(np.dot(x,_x).shape)"
   ]
  },
  {
   "cell_type": "code",
   "execution_count": 31,
   "metadata": {},
   "outputs": [
    {
     "data": {
      "text/plain": [
       "320.86078648478264"
      ]
     },
     "execution_count": 31,
     "metadata": {},
     "output_type": "execute_result"
    }
   ],
   "source": [
    "sum_val = 0\n",
    "for j in range(2*NUM):\n",
    "    _x = np.expand_dims(x[j],1)\n",
    "    sum_val += np.sum(1/y[j] - (_alpha*y_)*np.dot(x,_x))\n",
    "_beta_0 = sum_val/(2*NUM)\n",
    "_beta_0"
   ]
  },
  {
   "cell_type": "code",
   "execution_count": 32,
   "metadata": {},
   "outputs": [],
   "source": [
    "x_ = np.arange(0, 5)\n",
    "slope = -_beta[0]/_beta[1]\n",
    "inter = -_beta_0/_beta[1]"
   ]
  },
  {
   "cell_type": "code",
   "execution_count": 33,
   "metadata": {},
   "outputs": [
    {
     "data": {
      "image/png": "[encoded data removed]",
      "text/plain": [
       "<matplotlib.figure.Figure at 0x7fa373aa20d0>"
      ]
     },
     "execution_count": 33,
     "metadata": {},
     "output_type": "execute_result"
    }
   ],
   "source": [
    "ax.plot(x_, x_ * slope + inter)\n",
    "fig"
   ]
  },
  {
   "cell_type": "code",
   "execution_count": null,
   "metadata": {},
   "outputs": [],
   "source": []
  }
 ],
 "metadata": {
  "kernelspec": {
   "display_name": "Python 2",
   "language": "python",
   "name": "python2"
  },
  "language_info": {
   "codemirror_mode": {
    "name": "ipython",
    "version": 2
   },
   "file_extension": ".py",
   "mimetype": "text/x-python",
   "name": "python",
   "nbconvert_exporter": "python",
   "pygments_lexer": "ipython2",
   "version": "2.7.12"
  }
 },
 "nbformat": 4,
 "nbformat_minor": 2
}
