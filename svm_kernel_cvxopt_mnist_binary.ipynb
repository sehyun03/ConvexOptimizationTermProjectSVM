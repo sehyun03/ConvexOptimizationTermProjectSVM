{
 "cells": [
  {
   "cell_type": "code",
   "execution_count": 1,
   "metadata": {},
   "outputs": [],
   "source": [
    "%matplotlib inline\n",
    "from __future__ import division\n",
    "import cvxopt, svmcmpl\n",
    "import numpy as np\n",
    "import matplotlib.pyplot as plt\n",
    "import mnist, random"
   ]
  },
  {
   "cell_type": "code",
   "execution_count": null,
   "metadata": {},
   "outputs": [],
   "source": [
    "digits1 = [ 0 ]\n",
    "digits2 = [ 1 ]\n",
    "\n",
    "m1 = 4000; m2 = 4000\n",
    "\n",
    "# read training data\n",
    "images, labels = mnist.read(digits1 + digits2, dataset = \"training\", path = \"/home/ubuntu/HSH/Lecture/convex_term_project/data/mnist\")\n",
    "images_np = np.array(images) / 256.\n",
    "images = cvxopt.matrix(images_np)\n",
    "C1 = [ k for k in xrange(len(labels)) if labels[k] in digits1 ]\n",
    "C2 = [ k for k in xrange(len(labels)) if labels[k] in digits2 ]\n",
    "random.seed()\n",
    "random.shuffle(C1)\n",
    "random.shuffle(C2)\n",
    "train = C1[:m1] + C2[:m2]\n",
    "random.shuffle(train)\n",
    "X = images[train,:]\n",
    "d = cvxopt.matrix([ 2*(k in digits1) - 1 for k in labels[train] ])\n",
    "gamma = 4.0\n",
    "sol = svmcmpl.softmargin_appr(X, d, gamma, width = 50, kernel = 'linear', sigma = 2**5)"
   ]
  },
  {
   "cell_type": "code",
   "execution_count": 59,
   "metadata": {},
   "outputs": [],
   "source": [
    "# import matplotlib.image as mpimg\n",
    "# images_np_im = np.expand_dims(images_np[0,:].reshape(28,28),2)\n",
    "# plt.imshow(images_np_im)"
   ]
  },
  {
   "cell_type": "code",
   "execution_count": 60,
   "metadata": {},
   "outputs": [],
   "source": [
    "# m1t = 100; m2t = 100\n",
    "# imagest, labelst = mnist.read(digits1 + digits2, dataset = \"testing\", path = \"/home/ubuntu/HSH/Lecture/convex_term_project/data/mnist\")\n",
    "# imagest_np = np.array(imagest) / 256.\n",
    "# imagest = cvxopt.matrix(imagest_np)\n",
    "# C1t = [ k for k in xrange(len(labelst)) if labelst[k] in digits1 ]\n",
    "# C2t = [ k for k in xrange(len(labelst)) if labelst[k] in digits2 ]\n",
    "# random.seed()\n",
    "# random.shuffle(C1t)\n",
    "# random.shuffle(C2t)\n",
    "# test = C1t[:m1t] + C2[:m2t]\n",
    "# random.shuffle(test)\n",
    "# X_test = imagest[test,:]\n",
    "# d_test = cvxopt.matrix([ 2*(k in digits1) - 1 for k in labelst[test] ])"
   ]
  }
 ],
 "metadata": {
  "kernelspec": {
   "display_name": "Python 2",
   "language": "python",
   "name": "python2"
  },
  "language_info": {
   "codemirror_mode": {
    "name": "ipython",
    "version": 2
   },
   "file_extension": ".py",
   "mimetype": "text/x-python",
   "name": "python",
   "nbconvert_exporter": "python",
   "pygments_lexer": "ipython2",
   "version": "2.7.12"
  }
 },
 "nbformat": 4,
 "nbformat_minor": 2
}
