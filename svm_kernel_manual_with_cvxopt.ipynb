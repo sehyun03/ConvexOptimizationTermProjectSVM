{
 "cells": [
  {
   "cell_type": "code",
   "execution_count": 6,
   "metadata": {
    "collapsed": true
   },
   "outputs": [],
   "source": [
    "%matplotlib inline\n",
    "from __future__ import division\n",
    "import cvxpy as cvx\n",
    "import cvxopt\n",
    "import svmcmpl\n",
    "import matplotlib.pyplot as plt\n",
    "import numpy as np"
   ]
  },
  {
   "cell_type": "code",
   "execution_count": 7,
   "metadata": {
    "scrolled": false
   },
   "outputs": [
    {
     "name": "stdout",
     "output_type": "stream",
     "text": [
      "[4.0, 1.0] [1.0, 1.0]\n",
      "x (200, 2) y (200,)Generated\n",
      "[3.5, 4.0] [0.5, 4.0]\n",
      "x (200, 2) y (200,)Generated\n",
      "[4.0, 6.0] [0.7, 8.0]\n",
      "x (200, 2) y (200,)Generated\n",
      "[6.0, 6.0] [3.2, 9.0]\n",
      "x (200, 2) y (200,)Generated\n",
      "[8.0, 5.0] [6.0, 8.5]\n",
      "x (200, 2) y (200,)Generated\n",
      "[10.0, 5.0] [7.5, 2.0]\n",
      "x (200, 2) y (200,)Generated\n",
      "[10.5, 2.0] [10.0, 11.0]\n",
      "x (200, 2) y (200,)Generated\n",
      "[10.5, 8.0] [13.0, 2.0]\n",
      "x (200, 2) y (200,)Generated\n",
      "[12.0, 5.0] [13.0, 8.0]\n",
      "x (200, 2) y (200,)Generated\n",
      "[6.0, 4.0] [8.0, 8.0]\n",
      "x (200, 2) y (200,)Generated\n",
      "x (2000, 2) y (2000,)\n"
     ]
    },
    {
     "data": {
      "image/png": "[encoded data removed]",
      "text/plain": [
       "<matplotlib.figure.Figure at 0x7f660a61e8d0>"
      ]
     },
     "metadata": {},
     "output_type": "display_data"
    }
   ],
   "source": [
    "###Data Generation\n",
    "DIM = 2\n",
    "COLORS = ['red', 'blue']\n",
    "np.random.seed(2)\n",
    "\n",
    "fig, ax = plt.subplots()\n",
    "def generate_gaussian(m, c, num):\n",
    "    return np.random.multivariate_normal(m, c, num)\n",
    "def plot_data_with_labels(ax, x, y):\n",
    "    unique = np.unique(y)\n",
    "    for li in range(len(unique)):\n",
    "        x_sub = x[y == unique[li]]\n",
    "        ax.scatter(x_sub[:, 0], x_sub[:, 1], c = COLORS[li], s=10)\n",
    "def evaluate(y_hat, y_test):\n",
    "    num_right = np.sum(y_hat==y_test)\n",
    "    num_total = y_test.shape[0]\n",
    "    num_wrong = num_total - num_right\n",
    "    top1accuracy = num_right/(num_total)\n",
    "    top1error = num_wrong/num_total\n",
    "    print \"correct rate : \", num_right, \"/\", num_total\n",
    "    print \"top 1 accuracy\", top1accuracy\n",
    "    print \"top 1 error\", top1error\n",
    "\n",
    "def generate_dataset_pair(M1,M2,C1,C2,NUM_total,NUM_test):\n",
    "    x1 = generate_gaussian(M1, C1, NUM_total)\n",
    "    y1 = np.ones((x1.shape[0],))\n",
    "    x2 = generate_gaussian(M2, C2, NUM_total)\n",
    "    y2 = -np.ones((x2.shape[0],))\n",
    "    x_train = np.concatenate((x1[:-NUM_test,:], x2[:-NUM_test,:]), axis = 0)\n",
    "    x_test = np.concatenate((x1[-NUM_test:,:], x2[-NUM_test:,:]), axis =0)\n",
    "    y_train = np.concatenate((y1[:-NUM_test], y2[:-NUM_test]), axis = 0)\n",
    "    y_test = np.concatenate((y1[-NUM_test:], y2[-NUM_test:]), axis = 0)\n",
    "    print M1.tolist(), M2.tolist()\n",
    "    print('x {} y {}'.format(x_train.shape, y_train.shape) + \"Generated\")\n",
    "    train_set = (x_train, y_train)\n",
    "    test_set = (x_test, y_test)\n",
    "    return train_set, test_set\n",
    "\n",
    "NUM = 100\n",
    "NUM_test = int(NUM*0.2)\n",
    "NUM_total = NUM + NUM_test\n",
    "\n",
    "M1 = (4,1) * np.ones((DIM,))\n",
    "M2 = np.ones((DIM,))\n",
    "C1 = np.diag(0.7 * np.ones((DIM,)))\n",
    "C2 = np.diag(0.4 * np.ones((DIM,)))\n",
    "\n",
    "train_set, test_set = generate_dataset_pair(M1,M2,C1,C2,NUM_total,NUM_test)\n",
    "x_train = train_set[0]\n",
    "y_train = train_set[1]\n",
    "x_test = test_set[0]\n",
    "y_test = test_set[1]\n",
    "\n",
    "def get_another_pair(new_cor_1, new_cor_2, x_train, y_train, x_test, y_test):\n",
    "    M1 = new_cor_1 * np.ones((DIM,))\n",
    "    M2 = new_cor_2 * np.ones((DIM,))\n",
    "    C1 = np.diag(0.4 * np.ones((DIM,)))\n",
    "    C2 = np.diag(0.7 * np.ones((DIM,)))\n",
    "    train_set, test_set = generate_dataset_pair(M1,M2,C1,C2,NUM_total,NUM_test)\n",
    "    x_train = np.concatenate((x_train,train_set[0]), axis=0)\n",
    "    y_train = np.concatenate((y_train,train_set[1]), axis=0)\n",
    "    x_test = np.concatenate((x_test,test_set[0]), axis=0)\n",
    "    y_test = np.concatenate((y_test,test_set[1]), axis=0)\n",
    "    return x_train, y_train, x_test, y_test\n",
    "\n",
    "x_train, y_train, x_test, y_test = get_another_pair((3.5,4),(0.5,4),x_train, y_train, x_test, y_test)\n",
    "x_train, y_train, x_test, y_test = get_another_pair((4,6),(0.7,8),x_train, y_train, x_test, y_test)\n",
    "x_train, y_train, x_test, y_test = get_another_pair((6,6),(3.2,9),x_train, y_train, x_test, y_test)\n",
    "x_train, y_train, x_test, y_test = get_another_pair((8,5),(6,8.5),x_train, y_train, x_test, y_test)\n",
    "x_train, y_train, x_test, y_test = get_another_pair((10,5),(7.5,2),x_train, y_train, x_test, y_test)\n",
    "x_train, y_train, x_test, y_test = get_another_pair((10.5,2),(10,11),x_train, y_train, x_test, y_test)\n",
    "x_train, y_train, x_test, y_test = get_another_pair((10.5,8),(13,2),x_train, y_train, x_test, y_test)\n",
    "x_train, y_train, x_test, y_test = get_another_pair((12,5),(13,8),x_train, y_train, x_test, y_test)\n",
    "x_train, y_train, x_test, y_test = get_another_pair((6,4),(8,8),x_train, y_train, x_test, y_test)\n",
    "\n",
    "print('x {} y {}'.format(x_train.shape, y_train.shape))\n",
    "plot_data_with_labels(ax, x_train, y_train)\n",
    "NUM_train = int(x_train.shape[0])\n",
    "NUM_test = int(x_test.shape[0])\n",
    "NUM_total = NUM_train + NUM_test"
   ]
  },
  {
   "cell_type": "code",
   "execution_count": 8,
   "metadata": {},
   "outputs": [
    {
     "name": "stdout",
     "output_type": "stream",
     "text": [
      "building kernel matrix ..\n",
      "     pcost       dcost       gap    pres   dres\n",
      " 0: -3.4186e+02 -9.2059e+03  3e+04  1e+00  4e-15\n",
      " 1: -1.8553e+02 -3.4815e+03  4e+03  5e-02  4e-15\n",
      " 2: -2.9645e+02 -9.3466e+02  7e+02  7e-03  4e-15\n",
      " 3: -3.6253e+02 -6.2941e+02  3e+02  2e-03  4e-15\n",
      " 4: -3.8998e+02 -5.3048e+02  1e+02  1e-03  4e-15\n",
      " 5: -4.0784e+02 -4.7228e+02  7e+01  4e-04  4e-15\n",
      " 6: -4.1792e+02 -4.4217e+02  2e+01  9e-05  4e-15\n",
      " 7: -4.2126e+02 -4.3353e+02  1e+01  3e-05  4e-15\n",
      " 8: -4.2394e+02 -4.2765e+02  4e+00  4e-14  5e-15\n",
      " 9: -4.2495e+02 -4.2616e+02  1e+00  5e-14  5e-15\n",
      "10: -4.2532e+02 -4.2565e+02  3e-01  4e-14  5e-15\n",
      "11: -4.2543e+02 -4.2552e+02  9e-02  1e-14  4e-15\n",
      "12: -4.2545e+02 -4.2549e+02  3e-02  4e-14  4e-15\n",
      "13: -4.2547e+02 -4.2547e+02  1e-03  2e-16  4e-15\n",
      "14: -4.2547e+02 -4.2547e+02  1e-05  4e-14  4e-15\n",
      "Optimal solution found.\n",
      "utime = 4.460000, stime = 3.780000.\n",
      "305 support vectors.\n",
      "class 1: 31/1000 = 3.1% misclassified.\n",
      "class 2: 36/1000 = 3.6% misclassified.\n"
     ]
    }
   ],
   "source": [
    "X = cvxopt.matrix(x_train)\n",
    "d = cvxopt.matrix(y_train)\n",
    "gamma = 2.0; kernel = 'rbf'; sigma = 1; width = 20\n",
    "sol1 = svmcmpl.softmargin(X, d, gamma, kernel, sigma, degree=4)"
   ]
  },
  {
   "cell_type": "code",
   "execution_count": 9,
   "metadata": {},
   "outputs": [
    {
     "name": "stdout",
     "output_type": "stream",
     "text": [
      "correct rate :  381 / 400\n",
      "top 1 accuracy 0.9525\n",
      "top 1 error 0.0475\n"
     ]
    }
   ],
   "source": [
    "X_test = cvxopt.matrix(x_test)\n",
    "y_hat = np.array(sol1['classifier'](X_test)).squeeze()\n",
    "num_right = np.sum(y_hat==y_test)\n",
    "num_total = y_test.shape[0]\n",
    "evaluate(y_hat,y_test)"
   ]
  },
  {
   "cell_type": "code",
   "execution_count": null,
   "metadata": {
    "collapsed": true
   },
   "outputs": [],
   "source": []
  }
 ],
 "metadata": {
  "kernelspec": {
   "display_name": "Python 2",
   "language": "python",
   "name": "python2"
  },
  "language_info": {
   "codemirror_mode": {
    "name": "ipython",
    "version": 2
   },
   "file_extension": ".py",
   "mimetype": "text/x-python",
   "name": "python",
   "nbconvert_exporter": "python",
   "pygments_lexer": "ipython2",
   "version": "2.7.13"
  }
 },
 "nbformat": 4,
 "nbformat_minor": 2
}
