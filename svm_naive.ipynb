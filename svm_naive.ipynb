{
 "cells": [
  {
   "cell_type": "code",
   "execution_count": 14,
   "metadata": {
    "collapsed": true
   },
   "outputs": [],
   "source": [
    "%matplotlib inline\n",
    "from __future__ import division\n",
    "import cvxpy as cvx\n",
    "import matplotlib.pyplot as plt\n",
    "import numpy as np"
   ]
  },
  {
   "cell_type": "code",
   "execution_count": 15,
   "metadata": {},
   "outputs": [
    {
     "name": "stdout",
     "output_type": "stream",
     "text": [
      "x (2000, 2) y (2000,)\n"
     ]
    },
    {
     "data": {
      "image/png": "[encoded data removed]",
      "text/plain": [
       "<matplotlib.figure.Figure at 0x7f29273eacd0>"
      ]
     },
     "metadata": {},
     "output_type": "display_data"
    }
   ],
   "source": [
    "###Data Generation\n",
    "DIM = 2\n",
    "COLORS = ['red', 'blue']\n",
    "# np.random.seed(2)\n",
    "M1 = np.ones((DIM,))\n",
    "M2 = 5 * np.ones((DIM,))\n",
    "C1 = np.diag(0.7 * np.ones((DIM,)))\n",
    "C2 = np.diag(0.6 * np.ones((DIM,)))\n",
    "fig, ax = plt.subplots()\n",
    "def generate_gaussian(m, c, num):\n",
    "    return np.random.multivariate_normal(m, c, num)\n",
    "def plot_data_with_labels(ax, x, y):\n",
    "    unique = np.unique(y)\n",
    "    for li in range(len(unique)):\n",
    "        x_sub = x[y == unique[li]]\n",
    "        ax.scatter(x_sub[:, 0], x_sub[:, 1], c = COLORS[li])\n",
    "NUM = 1000\n",
    "x1 = generate_gaussian(M1, C1, NUM)\n",
    "y1 = np.ones((x1.shape[0],))\n",
    "x2 = generate_gaussian(M2, C2, NUM)\n",
    "y2 = -np.ones((x2.shape[0],))\n",
    "x = np.concatenate((x1, x2), axis = 0)\n",
    "y = np.concatenate((y1, y2), axis = 0)\n",
    "print('x {} y {}'.format(x.shape, y.shape))\n",
    "plot_data_with_labels(ax, x, y)"
   ]
  },
  {
   "cell_type": "code",
   "execution_count": 16,
   "metadata": {},
   "outputs": [
    {
     "name": "stdout",
     "output_type": "stream",
     "text": [
      "\n",
      "ECOS 2.0.4 - (C) embotech GmbH, Zurich Switzerland, 2012-15. Web: www.embotech.com/ECOS\n",
      "\n",
      "It     pcost       dcost      gap   pres   dres    k/t    mu     step   sigma     IR    |   BT\n",
      " 0  +0.000e+00  +1.442e+03  +3e+03  7e-01  2e+01  1e+00  2e+00    ---    ---    2  1  - |  -  - \n",
      " 1  +2.534e+02  +8.975e+04  +2e+03  4e+01  2e+03  4e+02  1e+00  0.4915  2e-01   2  1  1 |  0  0\n",
      " 2  -2.068e+00  +2.269e+03  +2e+03  1e+00  5e+01  5e+01  1e+00  0.2051  8e-01   2  1  1 |  0  0\n",
      " 3  -7.461e-01  +1.303e+03  +1e+03  6e-01  5e+01  8e+01  5e-01  0.5686  1e-01   2  1  1 |  0  0\n",
      " 4  -6.983e-01  +1.525e+03  +1e+03  7e-01  5e+01  1e+02  5e-01  0.0362  9e-01   2  1  1 |  0  0\n",
      " 5  +4.777e+00  +2.878e+03  +6e+02  1e+00  4e+01  4e+02  3e-01  0.5792  3e-01   2  1  1 |  0  0\n",
      " 6  +4.420e+01  +2.814e+03  +4e+02  1e+00  1e+02  3e+02  2e-01  0.7504  5e-01   2  1  1 |  0  0\n",
      " 7  +4.263e+01  +1.783e+03  +2e+02  7e-01  9e+01  2e+02  9e-02  0.5127  2e-02   2  1  1 |  0  0\n",
      " 8  +5.357e+01  +1.830e+03  +2e+02  7e-01  1e+02  2e+02  9e-02  0.1213  7e-01   2  1  1 |  0  0\n",
      " 9  +4.866e+01  +1.716e+03  +1e+02  7e-01  1e+02  2e+02  7e-02  0.3630  5e-01   2  1  1 |  0  0\n",
      "10  +4.684e+01  +4.413e+02  +7e+01  2e-01  3e+01  1e+00  3e-02  0.5906  1e-01   2  1  1 |  0  0\n",
      "11  +1.986e+01  +1.376e+02  +4e+01  5e-02  1e+01  1e+00  2e-02  0.5049  3e-01   2  1  1 |  0  0\n",
      "12  +7.969e+00  +5.865e+01  +3e+01  2e-02  4e+00  6e-01  1e-02  0.3460  1e-01   2  1  1 |  0  0\n",
      "13  +1.987e+01  +9.653e+01  +2e+01  3e-02  8e+00  1e+00  1e-02  0.7976  8e-01   2  1  1 |  0  0\n",
      "14  +7.675e+00  +3.245e+01  +1e+01  1e-02  2e+00  8e-01  7e-03  0.6420  4e-01   2  1  1 |  0  0\n",
      "15  +6.621e+00  +9.313e+00  +2e+00  1e-03  2e-01  3e-02  8e-04  0.9890  1e-01   2  1  1 |  0  0\n",
      "16  +6.584e+00  +6.744e+00  +9e-02  7e-05  1e-02  2e-03  5e-05  0.9413  9e-04   2  1  1 |  0  0\n",
      "17  +6.582e+00  +6.587e+00  +3e-03  2e-06  5e-04  3e-05  2e-06  0.9890  2e-02   2  1  1 |  0  0\n",
      "18  +6.582e+00  +6.582e+00  +4e-05  3e-08  6e-06  4e-07  2e-08  0.9877  1e-04   2  1  1 |  0  0\n",
      "19  +6.582e+00  +6.582e+00  +1e-06  8e-10  2e-07  1e-08  5e-10  0.9719  1e-04   2  1  1 |  0  0\n",
      "20  +6.582e+00  +6.582e+00  +4e-08  3e-11  7e-09  5e-10  2e-11  0.9612  1e-03   2  1  1 |  0  0\n",
      "\n",
      "OPTIMAL (within feastol=7.0e-09, reltol=6.5e-09, abstol=4.3e-08).\n",
      "Runtime: 0.009958 seconds.\n",
      "\n",
      "1.20603203773\n"
     ]
    }
   ],
   "source": [
    "import time\n",
    "start_time = time.time()\n",
    "y = np.expand_dims(a=y, axis=1)\n",
    "beta = cvx.Variable(2)\n",
    "v = cvx.Variable()\n",
    "loss = (0.5 * cvx.square(cvx.norm(beta)))\n",
    "const = []\n",
    "for i  in range(epsilon.size[1]):\n",
    "    const.append(cvx.mul_elemwise(y[i],x[i]*beta+v) >= 1)\n",
    "prob = cvx.Problem(cvx.Minimize(loss), const)\n",
    "prob.solve(verbose=True)\n",
    "end_time = time.time()\n",
    "print end_time - start_time"
   ]
  },
  {
   "cell_type": "code",
   "execution_count": 17,
   "metadata": {
    "collapsed": true
   },
   "outputs": [],
   "source": [
    "_beta = np.array(beta.value)\n",
    "_beta_0 = v.value\n",
    "x_ = np.arange(0, 6)\n",
    "slope = -_beta[0]/_beta[1]\n",
    "inter = -_beta_0/_beta[1]"
   ]
  },
  {
   "cell_type": "code",
   "execution_count": 18,
   "metadata": {},
   "outputs": [
    {
     "data": {
      "image/png": "[encoded data removed]",
      "text/plain": [
       "<matplotlib.figure.Figure at 0x7f29273eacd0>"
      ]
     },
     "execution_count": 18,
     "metadata": {},
     "output_type": "execute_result"
    }
   ],
   "source": [
    "ax.plot(x_, x_ * slope + inter)\n",
    "fig"
   ]
  },
  {
   "cell_type": "code",
   "execution_count": null,
   "metadata": {
    "collapsed": true
   },
   "outputs": [],
   "source": []
  }
 ],
 "metadata": {
  "kernelspec": {
   "display_name": "Python 2",
   "language": "python",
   "name": "python2"
  },
  "language_info": {
   "codemirror_mode": {
    "name": "ipython",
    "version": 2
   },
   "file_extension": ".py",
   "mimetype": "text/x-python",
   "name": "python",
   "nbconvert_exporter": "python",
   "pygments_lexer": "ipython2",
   "version": "2.7.13"
  }
 },
 "nbformat": 4,
 "nbformat_minor": 2
}
